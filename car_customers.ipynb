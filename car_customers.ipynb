{
 "cells": [
  {
   "cell_type": "code",
   "execution_count": null,
   "id": "0",
   "metadata": {},
   "outputs": [],
   "source": [
    "## EDA Notebook\n",
    "import numpy as np\n",
    "import pandas as pd\n",
    "import matplotlib.pyplot as plt\n",
    "import seaborn as sns"
   ]
  },
  {
   "cell_type": "code",
   "execution_count": null,
   "id": "1",
   "metadata": {},
   "outputs": [],
   "source": [
    "df = pd.read_csv(\"https://raw.githubusercontent.com/siglimumuni/Datasets/master/customer-data.csv\")"
   ]
  },
  {
   "cell_type": "code",
   "execution_count": null,
   "id": "2",
   "metadata": {},
   "outputs": [],
   "source": [
    "df.shape"
   ]
  },
  {
   "cell_type": "code",
   "execution_count": null,
   "id": "3",
   "metadata": {},
   "outputs": [],
   "source": [
    "df.head()"
   ]
  },
  {
   "cell_type": "code",
   "execution_count": null,
   "id": "4",
   "metadata": {},
   "outputs": [],
   "source": [
    "df.info()"
   ]
  },
  {
   "cell_type": "code",
   "execution_count": null,
   "id": "5",
   "metadata": {},
   "outputs": [],
   "source": [
    "df.isna().sum()"
   ]
  },
  {
   "cell_type": "code",
   "execution_count": null,
   "id": "6",
   "metadata": {},
   "outputs": [],
   "source": [
    "df.groupby('income')['credit_score'].mean()"
   ]
  },
  {
   "cell_type": "code",
   "execution_count": null,
   "id": "7",
   "metadata": {},
   "outputs": [],
   "source": [
    "#The mean credit scores for each group do differ widely as we suspected. \n",
    "# We can go ahead and impute the missing values for the “credit_score” column using the mean credit score for each income group.\n",
    "\n",
    "#function to impute missing values\n",
    "def impute_creditscore(income_classes):\n",
    "    \"\"\"This function takes a list of income groups and imputes the missing values in the credit score column\"\"\"\n",
    "    for income_class in income_classes:\n",
    "        mask = df[\"income\"] == income_class\n",
    "        mean = df[df[\"income\"] == income_class]['credit_score'].mean()\n",
    "        df.loc[mask, 'credit_score'] = df.loc[mask, 'credit_score'].fillna(mean)"
   ]
  },
  {
   "cell_type": "code",
   "execution_count": null,
   "id": "8",
   "metadata": {},
   "outputs": [],
   "source": [
    "income_groups = ['poverty', 'middle class', 'working class', 'upper class']\n",
    "impute_creditscore(income_groups)\n",
    "\n",
    "df.isnull().sum()"
   ]
  },
  {
   "cell_type": "code",
   "execution_count": null,
   "id": "9",
   "metadata": {},
   "outputs": [],
   "source": [
    "df.groupby('driving_experience')['annual_mileage'].mean()"
   ]
  },
  {
   "cell_type": "code",
   "execution_count": null,
   "id": "10",
   "metadata": {},
   "outputs": [],
   "source": [
    "mean_mileage = df['annual_mileage'].mean()\n",
    "df['annual_mileage'].fillna(mean_mileage, inplace=True)\n",
    "df.isnull().sum()"
   ]
  },
  {
   "cell_type": "code",
   "execution_count": null,
   "id": "11",
   "metadata": {},
   "outputs": [],
   "source": [
    "#axis=1 is for columns, axis=0 is for rows\n",
    "#inplace=True means that the changes will be made to the original dataframe\n",
    "\n",
    "df.drop(['id', 'postal_code'], axis=1, inplace=True)"
   ]
  },
  {
   "cell_type": "code",
   "execution_count": null,
   "id": "12",
   "metadata": {},
   "outputs": [],
   "source": [
    "# Univariate analysis: Single column or variable\n",
    "df['gender'].value_counts()"
   ]
  },
  {
   "cell_type": "code",
   "execution_count": null,
   "id": "13",
   "metadata": {},
   "outputs": [],
   "source": [
    "# Univariate analysis: Categorical unordered data\n",
    "sns.countplot(data=df, x='gender')\n",
    "plt.title(\"Number of clients per gender\")\n",
    "plt.ylabel(\"Number of clients\")\n",
    "plt.show()"
   ]
  },
  {
   "cell_type": "code",
   "execution_count": null,
   "id": "14",
   "metadata": {},
   "outputs": [],
   "source": [
    "plt.figure(figsize=(6,6))\n",
    "data = df['income'].value_counts(normalize=True)\n",
    "labels = [\"upper class\", \"middle class\", \"working class\", \"poverty\"]\n",
    "colors = sns.color_palette('pastel')\n",
    "plt.pie(data, labels=labels, colors=colors, autopct='%.0f%%')\n",
    "plt.title(\"Proportion of clients per income group\")\n",
    "plt.show()"
   ]
  },
  {
   "cell_type": "code",
   "execution_count": null,
   "id": "15",
   "metadata": {},
   "outputs": [],
   "source": [
    "df['education'].value_counts()"
   ]
  },
  {
   "cell_type": "code",
   "execution_count": null,
   "id": "16",
   "metadata": {},
   "outputs": [],
   "source": [
    "# Univariate analysis: Categorical Ordered data\n",
    "plt.figure(figsize=(8,5))\n",
    "sns.countplot(data=df, x='education', order=['university', 'high school', 'none'], color='skyblue')\n",
    "plt.title(\"Number of clients per education level\")\n",
    "plt.show()"
   ]
  },
  {
   "cell_type": "code",
   "execution_count": null,
   "id": "17",
   "metadata": {},
   "outputs": [],
   "source": [
    "# Univariate analysis: Numerical data - The third type of univariate analysis uses numerical data. \n",
    "# Univariate numeric data is usually analyzed by calculating functions like the mean, mode, max, min, standard deviation etc.\n",
    "df['credit_score'].describe()"
   ]
  },
  {
   "cell_type": "code",
   "execution_count": null,
   "id": "18",
   "metadata": {},
   "outputs": [],
   "source": [
    "plt.figure(figsize=(8,5))\n",
    "sns.histplot(data=df, x='credit_score', bins=40, kde=True).set(title='Distribution of Credit Score', ylabel='Number of Clients')\n",
    "plt.show()"
   ]
  },
  {
   "cell_type": "code",
   "execution_count": null,
   "id": "19",
   "metadata": {},
   "outputs": [],
   "source": [
    "plt.figure(figsize=(8,5))\n",
    "sns.histplot(data=df, x='annual_mileage', bins=20, kde=True).set(title='Distribution of Annual Mileage', ylabel='Number of Clients')\n",
    "plt.show()"
   ]
  },
  {
   "cell_type": "code",
   "execution_count": null,
   "id": "20",
   "metadata": {},
   "outputs": [],
   "source": [
    "# Bivariate analysis: Two variables\n",
    "# Types: numerical vs numerical, numerical vs categorical, categorical vs categorical\n",
    "# Numerical vs Numerical\n",
    "plt.figure(figsize=(8,5))\n",
    "plt.scatter(data=df, x='annual_mileage', y='speeding_violations')\n",
    "plt.title('Annual Mileage vs Speeding Violations')\n",
    "plt.xlabel('Annual Mileage')\n",
    "plt.ylabel('Speeding Violations')\n",
    "plt.show()"
   ]
  },
  {
   "cell_type": "code",
   "execution_count": null,
   "id": "21",
   "metadata": {},
   "outputs": [],
   "source": [
    "corr_matrix = df[['speeding_violations', 'DUIs', 'past_accidents']].corr()\n",
    "corr_matrix"
   ]
  },
  {
   "cell_type": "code",
   "execution_count": null,
   "id": "22",
   "metadata": {},
   "outputs": [],
   "source": [
    "plt.figure(figsize=(8,5))\n",
    "sns.heatmap(corr_matrix, annot=True, cmap='Reds')\n",
    "plt.title('Correlation Matrix')\n",
    "plt.show()"
   ]
  },
  {
   "cell_type": "code",
   "execution_count": null,
   "id": "23",
   "metadata": {},
   "outputs": [],
   "source": [
    "df.groupby('outcome')['annual_mileage'].mean()"
   ]
  },
  {
   "cell_type": "code",
   "execution_count": null,
   "id": "24",
   "metadata": {},
   "outputs": [],
   "source": [
    "# Bivariate analysis: Numerical vs Categorical\n",
    "sns.boxplot(data=df, x='outcome', y='annual_mileage')\n",
    "plt.title('Annual Mileage by Outcome')\n",
    "plt.show()"
   ]
  },
  {
   "cell_type": "code",
   "execution_count": null,
   "id": "25",
   "metadata": {},
   "outputs": [],
   "source": [
    "sns.histplot(data=df, x='credit_score', hue='outcome', element='step', stat='density')\n",
    "plt.title('Distribution of Credit Score per Outcome')\n",
    "plt.show()"
   ]
  },
  {
   "cell_type": "code",
   "execution_count": null,
   "id": "26",
   "metadata": {},
   "outputs": [],
   "source": [
    "# Bivariate analysis: Categorical vs Categorical\n",
    "# This type of analysis is used to analyze the relationship between two categorical variables.\n",
    "# It can be done using a contingency table or a stacked bar chart.\n",
    "df['claim_rate'] = np.where(df['outcome'] == True, 1, 0)\n",
    "df['claim_rate'].value_counts()"
   ]
  },
  {
   "cell_type": "code",
   "execution_count": null,
   "id": "27",
   "metadata": {},
   "outputs": [],
   "source": [
    "plt.figure(figsize=(8,5))\n",
    "df.groupby('age')['claim_rate'].mean().plot(kind='bar')\n",
    "plt.title('Claim Rate by Age Group')\n",
    "plt.show()"
   ]
  },
  {
   "cell_type": "code",
   "execution_count": null,
   "id": "28",
   "metadata": {},
   "outputs": [],
   "source": [
    "plt.figure(figsize=(8,5))\n",
    "df.groupby('vehicle_year')['claim_rate'].mean().plot(kind='bar')\n",
    "plt.title('Claim Rate by Vehicle Year')\n",
    "plt.show()"
   ]
  },
  {
   "cell_type": "code",
   "execution_count": null,
   "id": "29",
   "metadata": {},
   "outputs": [],
   "source": [
    "fig, axes = plt.subplots(1,2,figsize=(12,4))\n",
    "\n",
    "for i, col in enumerate(['education', 'income']):\n",
    "    sns.histplot(data=df, ax=axes[i], x=col, hue='outcome', stat='probability', multiple='fill', shrink=0.8, alpha=0.7)\n",
    "    axes[i].set_title(f'Distribution of {col.capitalize()} by Outcome')"
   ]
  },
  {
   "cell_type": "code",
   "execution_count": null,
   "id": "30",
   "metadata": {},
   "outputs": [],
   "source": [
    "# Multivariate analysis: Three or more variables\n",
    "# This type of analysis is used to analyze the relationship between three or more variables.\n",
    "\n",
    "edu_income = pd.pivot_table(data=df, index='education', columns='income', values='claim_rate', aggfunc='mean')\n",
    "edu_income"
   ]
  },
  {
   "cell_type": "code",
   "execution_count": null,
   "id": "31",
   "metadata": {},
   "outputs": [],
   "source": [
    "plt.figure(figsize=(8,5))\n",
    "sns.heatmap(edu_income, annot=True, cmap='coolwarm')\n",
    "plt.title('Claim Rate by Education and Income')\n",
    "plt.show()"
   ]
  },
  {
   "cell_type": "code",
   "execution_count": null,
   "id": "32",
   "metadata": {},
   "outputs": [],
   "source": [
    "driv_married = pd.pivot_table(data=df, index='driving_experience', columns='married', values='claim_rate', aggfunc='mean')\n",
    "plt.figure(figsize=(8,5))\n",
    "sns.heatmap(driv_married, annot=True, cmap='coolwarm', center=0.117)\n",
    "plt.title('Claim Rate by Driving Experience and Marital Status')\n",
    "plt.show()"
   ]
  },
  {
   "cell_type": "code",
   "execution_count": null,
   "id": "33",
   "metadata": {},
   "outputs": [],
   "source": [
    "gender_children = pd.pivot_table(data=df,index='gender',columns='children',values='claim_rate')\n",
    "plt.figure(figsize=[8,5])\n",
    "sns.heatmap(gender_children,annot=True,cmap='coolwarm', center=0.117)\n",
    "plt.title(\"Gender and Family Status\")\n",
    "plt.show()"
   ]
  }
 ],
 "metadata": {
  "kernelspec": {
   "display_name": "base",
   "language": "python",
   "name": "python3"
  },
  "language_info": {
   "codemirror_mode": {
    "name": "ipython",
    "version": 3
   },
   "file_extension": ".py",
   "mimetype": "text/x-python",
   "name": "python",
   "nbconvert_exporter": "python",
   "pygments_lexer": "ipython3",
   "version": "3.11.5"
  }
 },
 "nbformat": 4,
 "nbformat_minor": 5
}
